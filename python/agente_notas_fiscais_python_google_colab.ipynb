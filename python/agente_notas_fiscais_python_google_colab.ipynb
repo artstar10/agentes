{
  "nbformat": 4,
  "nbformat_minor": 0,
  "metadata": {
    "colab": {
      "provenance": []
    },
    "kernelspec": {
      "name": "python3",
      "display_name": "Python 3"
    },
    "language_info": {
      "name": "python"
    }
  },
  "cells": [
    {
      "cell_type": "markdown",
      "source": [
        "Agente Inteligente para Notas Fiscais - Google Colab\n",
        "Este notebook implementa um agente inteligente capaz de ler um arquivo CSV com dados de Notas Fiscais e responder perguntas em linguagem natural sobre ele.\n"
      ],
      "metadata": {
        "id": "WZuXLfdT0N72"
      }
    },
    {
      "cell_type": "markdown",
      "source": [
        "📌 Passo 1 — Instalar bibliotecas necessárias(OpenAI, langchain, pandas)\n"
      ],
      "metadata": {
        "id": "rkrwPW_a0WfD"
      }
    },
    {
      "cell_type": "code",
      "execution_count": null,
      "metadata": {
        "id": "2Y5JRKyJxgyK"
      },
      "outputs": [],
      "source": [
        "!pip install openai langchain pandas\n",
        "!pip install langchain_experimental\n",
        "!pip install -U langchain-openai"
      ]
    },
    {
      "cell_type": "markdown",
      "source": [
        "📌 Passo 2 — Importar bibliotecas"
      ],
      "metadata": {
        "id": "IexGpncRSNr0"
      }
    },
    {
      "cell_type": "code",
      "source": [],
      "metadata": {
        "id": "S-xc4GEcocfz"
      },
      "execution_count": null,
      "outputs": []
    },
    {
      "cell_type": "code",
      "source": [
        "import os\n",
        "os.environ[\"OPENAI_API_KEY\"] = \"INSIRE A CHAVE AQUI\""
      ],
      "metadata": {
        "id": "7S8jm_mnwcf4"
      },
      "execution_count": 32,
      "outputs": []
    },
    {
      "cell_type": "code",
      "source": [
        "import pandas as pd\n",
        "from langchain import OpenAI\n",
        "from langchain_experimental.agents.agent_toolkits.csv.base import create_csv_agent"
      ],
      "metadata": {
        "id": "QXVa3sOjJJ1X"
      },
      "execution_count": 33,
      "outputs": []
    },
    {
      "cell_type": "code",
      "source": [
        "import os\n",
        "import pandas as pd\n",
        "from langchain_experimental.agents import create_csv_agent\n",
        "from langchain.llms import OpenAI"
      ],
      "metadata": {
        "id": "wI85TjHT2Dr9"
      },
      "execution_count": 34,
      "outputs": []
    },
    {
      "cell_type": "markdown",
      "metadata": {
        "id": "c65ac644"
      },
      "source": [
        "📌 Passo 3 — Conectar ao Google Drive"
      ]
    },
    {
      "cell_type": "code",
      "metadata": {
        "colab": {
          "base_uri": "https://localhost:8080/"
        },
        "id": "a0b13574",
        "outputId": "b682a72e-61d1-469f-c275-56ee91fc79ac"
      },
      "source": [
        "from google.colab import drive\n",
        "drive.mount('/content/drive')"
      ],
      "execution_count": 35,
      "outputs": [
        {
          "output_type": "stream",
          "name": "stdout",
          "text": [
            "Drive already mounted at /content/drive; to attempt to forcibly remount, call drive.mount(\"/content/drive\", force_remount=True).\n"
          ]
        }
      ]
    },
    {
      "cell_type": "markdown",
      "metadata": {
        "id": "fb7eabba"
      },
      "source": [
        "📌 Passo 4 — Descompactar arquivo ZIP\n",
        "\n",
        "1.   Item da lista\n",
        "2.   Item da lista\n",
        "\n",
        "\n",
        "Agora, use o código para descompactar o arquivo ZIP. Lembre-se de substituir `'/content/drive/My Drive/caminho/para/seu_arquivo.zip'` pelo caminho real do seu arquivo no Google Drive e `'/content/drive/My Drive/caminho/para/extrair'` pelo diretório de destino desejado (também no seu Drive ou em outro local acessível)."
      ]
    },
    {
      "cell_type": "code",
      "metadata": {
        "colab": {
          "base_uri": "https://localhost:8080/"
        },
        "id": "393177a6",
        "outputId": "96d6090a-6500-40ef-a7e1-63ade8b939aa"
      },
      "source": [
        "import zipfile\n",
        "import os\n",
        "\n",
        "# Substitua pelo caminho completo do seu arquivo .zip no Google Drive\n",
        "zip_file_path = '/content/drive/My Drive/Colab Notebooks/202401_NFs_Desafio_3.zip'\n",
        "\n",
        "# Substitua pelo diretório onde você quer extrair os arquivos (pode ser no Drive ou em outro lugar)\n",
        "extract_dir = '/content/drive/My Drive/Colab Notebooks/NotasFiscaisDescompactadas'\n",
        "\n",
        "# Cria o diretório de destino se ele não existir\n",
        "os.makedirs(extract_dir, exist_ok=True)\n",
        "\n",
        "try:\n",
        "    with zipfile.ZipFile(zip_file_path, 'r') as zip_ref:\n",
        "        zip_ref.extractall(extract_dir)\n",
        "    print(f\"Arquivo '{zip_file_path}' descompactado com sucesso em '{extract_dir}'.\")\n",
        "except FileNotFoundError:\n",
        "    print(f\"Erro: Arquivo '{zip_file_path}' não encontrado. Verifique o caminho.\")\n",
        "except zipfile.BadZipFile:\n",
        "    print(f\"Erro: O arquivo '{zip_file_path}' não é um arquivo ZIP válido.\")\n",
        "except Exception as e:\n",
        "    print(f\"Ocorreu um erro durante a descompactação: {e}\")"
      ],
      "execution_count": 36,
      "outputs": [
        {
          "output_type": "stream",
          "name": "stdout",
          "text": [
            "Arquivo '/content/drive/My Drive/Colab Notebooks/202401_NFs_Desafio_3.zip' descompactado com sucesso em '/content/drive/My Drive/Colab Notebooks/NotasFiscaisDescompactadas'.\n"
          ]
        }
      ]
    },
    {
      "cell_type": "markdown",
      "source": [
        "📌 Passo 5 — Ler os CSVs"
      ],
      "metadata": {
        "id": "jcYCImbmTDlR"
      }
    },
    {
      "cell_type": "code",
      "source": [
        "import pandas as pd\n",
        "\n",
        "# Caminhos para os dois arquivos\n",
        "cabecalho_path = '/content/drive/MyDrive/Colab Notebooks/NotasFiscaisDescompactadas/202401_NFs_Cabecalho.csv'\n",
        "itens_path = '/content/drive/MyDrive/Colab Notebooks/NotasFiscaisDescompactadas/202401_NFs_Itens.csv'\n",
        "\n",
        "# Lendo os CSVs\n",
        "df_cabecalho = pd.read_csv(cabecalho_path)\n",
        "df_itens = pd.read_csv(itens_path)\n",
        "\n",
        "# Mostrando as primeiras linhas\n",
        "print(\"📄 Cabeçalho:\")\n",
        "display(df_cabecalho.head())\n",
        "\n",
        "print(\"📄 Itens:\")\n",
        "display(df_itens.head())"
      ],
      "metadata": {
        "id": "T0-1E0nbR6e_"
      },
      "execution_count": null,
      "outputs": []
    },
    {
      "cell_type": "markdown",
      "source": [
        "📌 Passo 6 — Criando Agente para o Cabeçalho\n",
        " 🤖"
      ],
      "metadata": {
        "id": "LizIXtuiVHHY"
      }
    },
    {
      "cell_type": "code",
      "source": [
        "from langchain_openai import ChatOpenAI\n",
        "from langchain_experimental.agents import create_pandas_dataframe_agent\n",
        "\n",
        "llm = ChatOpenAI(\n",
        "  model=\"mistralai/mistral-7b-instruct\",  # ou outro modelo suportado\n",
        "  temperature=0,\n",
        "  api_key=\"INSIRA A CHAVE AQUI\",\n",
        "  base_url=\"https://openrouter.ai/api/v1\"\n",
        "  )\n",
        "\n",
        "agent_cabecalho = create_pandas_dataframe_agent(\n",
        "llm,\n",
        "df_cabecalho,\n",
        "verbose=True,\n",
        "allow_dangerous_code=True,\n",
        "handle_parsing_errors=True\n",
        "  )\n",
        "agent_cabecalho.invoke(\"Quantas notas fiscais foram emitidas?\")"
      ],
      "metadata": {
        "id": "TWewuT2n05Z1"
      },
      "execution_count": null,
      "outputs": []
    },
    {
      "cell_type": "markdown",
      "source": [
        "📌 Passo 7 — Criando Agente para os Itens 🤖"
      ],
      "metadata": {
        "id": "6n6KuWw4VcR-"
      }
    },
    {
      "cell_type": "code",
      "source": [
        "from langchain.prompts import PromptTemplate\n",
        "\n",
        "# Prompt customizado\n",
        "custom_prefix = \"\"\"\n",
        "Você é um agente especialista em análise de notas fiscais.\n",
        "Sempre que perguntado sobre produtos mais vendidos, você deve procurar o valor máximo na coluna QUANTIDADE\n",
        "e devolver a DESCRIÇÃO correspondente a essa linha no dataframe.\n",
        "Responda em português e de forma objetiva.\n",
        "\"\"\"\n",
        "\n",
        "agent_itens = create_pandas_dataframe_agent(\n",
        "llm,\n",
        "df_itens,\n",
        "verbose=True,\n",
        "allow_dangerous_code=True,\n",
        "prefix=custom_prefix\n",
        "                                             )\n",
        "agent_itens.invoke(\"Qual foi o produto mais vendido?\")"
      ],
      "metadata": {
        "id": "X5NOOk3KFM4h"
      },
      "execution_count": null,
      "outputs": []
    }
  ]
}
